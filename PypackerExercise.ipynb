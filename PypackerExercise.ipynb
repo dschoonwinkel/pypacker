{
 "metadata": {
  "name": ""
 },
 "nbformat": 3,
 "nbformat_minor": 0,
 "worksheets": [
  {
   "cells": [
    {
     "cell_type": "code",
     "collapsed": false,
     "input": [
      "from pypacker.layer12.COPE_packet import COPE_packet\n",
      "from pypacker.layer12.ethernet import Ethernet\n",
      "from pypacker.layer3.ip import IP\n",
      "from pypacker.layer3.icmp import ICMP"
     ],
     "language": "python",
     "metadata": {},
     "outputs": [],
     "prompt_number": 1
    },
    {
     "cell_type": "code",
     "collapsed": false,
     "input": [
      "pkt = COPE_packet(b'\\x00\\x01\\\n",
      "\\x26\\x57\\xE9\\x8E\\x0E\\x5E\\x0D\\x3E\\xFF\\xFF\\xFF\\xFF\\xFF\\\n",
      "\\xFF\\\n",
      "\\x00\\x00\\\n",
      "\\x00\\x00\\\n",
      "\\x00\\x00\\x00\\x01\\\n",
      "\\xB8\\x6E')\n",
      "pkt"
     ],
     "language": "python",
     "metadata": {},
     "outputs": [
      {
       "metadata": {},
       "output_type": "pyout",
       "prompt_number": 2,
       "text": [
        "COPE_packet(encoded_num=1, encoded_pkts=[EncodedHeader(pkt_id=2657E98E0E5E0D3E, nexthop=b'\\xff\\xff\\xff\\xff\\xff\\xff', bytes=b'')], report_num=0, reports=[], ack_num=0, local_pkt_seq_no=1, acks=[], checksum=B86E, bytes=b'')"
       ]
      }
     ],
     "prompt_number": 2
    },
    {
     "cell_type": "code",
     "collapsed": false,
     "input": [
      "default_pkt= b'\\x00\\x01\\\n",
      "\\x26\\x57\\xE9\\x8E\\x0E\\x5E\\x0D\\x3E\\xFF\\xFF\\xFF\\xFF\\xFF\\xFF\\\n",
      "\\x00\\x01\\\n",
      "\\x0A\\x00\\x00\\x02\\x00\\x00\\x00\\x5A\\x0F\\\n",
      "\\x00\\x01\\\n",
      "\\x00\\x00\\x00\\x01\\\n",
      "\\xDE\\xAD\\xBE\\xEF\\xCA\\xFE\\\n",
      "\\x00\\x00\\x00\\x5A\\\n",
      "\\x0F\\\n",
      "\\xCD\\x56'"
     ],
     "language": "python",
     "metadata": {},
     "outputs": [],
     "prompt_number": 3
    },
    {
     "cell_type": "code",
     "collapsed": false,
     "input": [
      "pkt = COPE_packet(default_pkt)\n",
      "pkt"
     ],
     "language": "python",
     "metadata": {},
     "outputs": [
      {
       "metadata": {},
       "output_type": "pyout",
       "prompt_number": 4,
       "text": [
        "COPE_packet(encoded_num=1, encoded_pkts=[EncodedHeader(pkt_id=2657E98E0E5E0D3E, nexthop=b'\\xff\\xff\\xff\\xff\\xff\\xff', bytes=b'')], report_num=1, reports=[ReportHeader(src_ip=b'\\n\\x00\\x00\\x02', last_pkt=5A, bitmap=F, bytes=b'')], ack_num=1, local_pkt_seq_no=1, acks=[ACKHeader(neighbour=b'\\xde\\xad\\xbe\\xef\\xca\\xfe', last_ack=5A, ackmap=F, bytes=b'')], checksum=CD56, bytes=b'')"
       ]
      }
     ],
     "prompt_number": 4
    },
    {
     "cell_type": "code",
     "collapsed": false,
     "input": [
      "# %timeit pkt = COPE_packet(default_pkt) + IP()"
     ],
     "language": "python",
     "metadata": {},
     "outputs": [],
     "prompt_number": 5
    },
    {
     "cell_type": "code",
     "collapsed": false,
     "input": [
      "cope_ip_bytes = b'\\x00\\x01\\x26\\x57\\xE9\\x8E\\x0E\\x5E\\x0D\\x3E\\xFF\\xFF\\xFF\\xFF\\xFF\\xFF\\\n",
      "\\x00\\x01\\x0A\\x00\\x00\\x02\\x00\\x00\\x00\\x5A\\x0F\\\n",
      "\\x00\\x01\\x00\\x00\\x00\\x01\\\n",
      "\\xDE\\xAD\\xBE\\xEF\\xCA\\xFE\\x00\\x00\\x00\\x5A\\x0F\\\n",
      "\\xCD\\x56\\\n",
      "\\x45\\x00\\x00\\x18\\x00\\x01\\x00\\x00\\x40\\xff\\x7C\\xE3\\x7F\\x00\\x00\\x01\\x7F\\x00\\x00\\x01\\xFF\\x00\\xFF\\x00'"
     ],
     "language": "python",
     "metadata": {},
     "outputs": [],
     "prompt_number": 6
    },
    {
     "cell_type": "code",
     "collapsed": false,
     "input": [
      "pkt2 = COPE_packet(cope_ip_bytes)\n",
      "pkt2"
     ],
     "language": "python",
     "metadata": {},
     "outputs": [
      {
       "metadata": {},
       "output_type": "pyout",
       "prompt_number": 7,
       "text": [
        "COPE_packet(encoded_num=1, encoded_pkts=[EncodedHeader(pkt_id=2657E98E0E5E0D3E, nexthop=b'\\xff\\xff\\xff\\xff\\xff\\xff', bytes=b'')], report_num=1, reports=[ReportHeader(src_ip=b'\\n\\x00\\x00\\x02', last_pkt=5A, bitmap=F, bytes=b'')], ack_num=1, local_pkt_seq_no=1, acks=[ACKHeader(neighbour=b'\\xde\\xad\\xbe\\xef\\xca\\xfe', last_ack=5A, ackmap=F, bytes=b'')], checksum=CD56, handler=ip)\n",
        "IP(v_hl=45, tos=0, len=18, id=1, off=0, ttl=40, p=FF, sum=7CE3, src=b'\\x7f\\x00\\x00\\x01', dst=b'\\x7f\\x00\\x00\\x01', opts=[], bytes=b'\\xff\\x00\\xff\\x00')"
       ]
      }
     ],
     "prompt_number": 7
    },
    {
     "cell_type": "code",
     "collapsed": false,
     "input": [
      "len(pkt2.body_bytes)"
     ],
     "language": "python",
     "metadata": {},
     "outputs": [
      {
       "metadata": {},
       "output_type": "pyout",
       "prompt_number": 8,
       "text": [
        "24"
       ]
      }
     ],
     "prompt_number": 8
    },
    {
     "cell_type": "code",
     "collapsed": false,
     "input": [
      "pkt_bytes = bytearray(pkt2.body_bytes)\n",
      "pkt_bytes[9] = 0xff\n",
      "pkt_bytes\n"
     ],
     "language": "python",
     "metadata": {},
     "outputs": [
      {
       "metadata": {},
       "output_type": "pyout",
       "prompt_number": 9,
       "text": [
        "bytearray(b'E\\x00\\x00\\x18\\x00\\x01\\x00\\x00@\\xff|\\xe3\\x7f\\x00\\x00\\x01\\x7f\\x00\\x00\\x01\\xff\\x00\\xff\\x00')"
       ]
      }
     ],
     "prompt_number": 9
    },
    {
     "cell_type": "code",
     "collapsed": false,
     "input": [
      "IP(pkt_bytes)"
     ],
     "language": "python",
     "metadata": {},
     "outputs": [
      {
       "metadata": {},
       "output_type": "pyout",
       "prompt_number": 10,
       "text": [
        "IP(v_hl=45, tos=0, len=18, id=1, off=0, ttl=40, p=FF, sum=7CE3, src=b'\\x7f\\x00\\x00\\x01', dst=b'\\x7f\\x00\\x00\\x01', opts=[], bytes=bytearray(b'\\xff\\x00\\xff\\x00'))"
       ]
      }
     ],
     "prompt_number": 10
    },
    {
     "cell_type": "code",
     "collapsed": false,
     "input": [
      "ether_cope_ip_bytes = b'\\xFF\\xFF\\xFF\\xFF\\xFF\\xFF\\x08\\x00\\x27\\x24\\x1B\\x32\\x71\\x23\\x00\\x01\\x26\\x57\\xE9\\x8E\\x0E\\x5E\\x0D\\x3E\\xFF\\xFF\\xFF\\xFF\\xFF\\xFF\\x00\\x01\\x0A\\x00\\x00\\x02\\x00\\x00\\x00\\x5A\\x0F\\x00\\x01\\x00\\x00\\x00\\x01\\xDE\\xAD\\xBE\\xEF\\xCA\\xFE\\x00\\x00\\x00\\x5A\\x0F\\xCD\\x56\\x45\\x00\\x00\\x18\\x00\\x01\\x00\\x00\\x40\\xFF\\x7C\\xE3\\x7F\\x00\\x00\\x01\\x7F\\x00\\x00\\x01\\xFF\\x00\\xFF\\x00'"
     ],
     "language": "python",
     "metadata": {},
     "outputs": [],
     "prompt_number": 11
    },
    {
     "cell_type": "code",
     "collapsed": false,
     "input": [
      "Ethernet(ether_cope_ip_bytes)"
     ],
     "language": "python",
     "metadata": {},
     "outputs": [
      {
       "metadata": {},
       "output_type": "pyout",
       "prompt_number": 12,
       "text": [
        "Ethernet(dst=b'\\xff\\xff\\xff\\xff\\xff\\xff', src=b\"\\x08\\x00'$\\x1b2\", vlan=[], type=7123, handler=cope_packet)\n",
        "COPE_packet(encoded_num=1, encoded_pkts=[EncodedHeader(pkt_id=2657E98E0E5E0D3E, nexthop=b'\\xff\\xff\\xff\\xff\\xff\\xff', bytes=b'')], report_num=1, reports=[ReportHeader(src_ip=b'\\n\\x00\\x00\\x02', last_pkt=5A, bitmap=F, bytes=b'')], ack_num=1, local_pkt_seq_no=1, acks=[ACKHeader(neighbour=b'\\xde\\xad\\xbe\\xef\\xca\\xfe', last_ack=5A, ackmap=F, bytes=b'')], checksum=CD56, handler=ip)\n",
        "IP(v_hl=45, tos=0, len=18, id=1, off=0, ttl=40, p=FF, sum=7CE3, src=b'\\x7f\\x00\\x00\\x01', dst=b'\\x7f\\x00\\x00\\x01', opts=[], bytes=b'\\xff\\x00\\xff\\x00')"
       ]
      }
     ],
     "prompt_number": 12
    },
    {
     "cell_type": "code",
     "collapsed": false,
     "input": [
      "%timeit pkt2 = COPE_packet(cope_ip_bytes)"
     ],
     "language": "python",
     "metadata": {},
     "outputs": [
      {
       "output_type": "stream",
       "stream": "stdout",
       "text": [
        "10000 loops, best of 3: 16.8 \u00b5s per loop\n"
       ]
      }
     ],
     "prompt_number": 13
    },
    {
     "cell_type": "code",
     "collapsed": false,
     "input": [
      "%timeit pkt3 = COPE_packet() + IP()"
     ],
     "language": "python",
     "metadata": {},
     "outputs": [
      {
       "output_type": "stream",
       "stream": "stdout",
       "text": [
        "100000 loops, best of 3: 6.79 \u00b5s per loop\n"
       ]
      }
     ],
     "prompt_number": 14
    },
    {
     "cell_type": "code",
     "collapsed": false,
     "input": [
      "%timeit pkt4 = Ethernet(ether_cope_ip_bytes)"
     ],
     "language": "python",
     "metadata": {},
     "outputs": [
      {
       "output_type": "stream",
       "stream": "stdout",
       "text": [
        "100000 loops, best of 3: 4.77 \u00b5s per loop\n"
       ]
      }
     ],
     "prompt_number": 15
    },
    {
     "cell_type": "code",
     "collapsed": false,
     "input": [],
     "language": "python",
     "metadata": {},
     "outputs": [],
     "prompt_number": 15
    }
   ],
   "metadata": {}
  }
 ]
}